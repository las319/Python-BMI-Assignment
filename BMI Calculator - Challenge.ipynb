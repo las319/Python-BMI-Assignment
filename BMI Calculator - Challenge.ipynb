{
 "cells": [
  {
   "cell_type": "markdown",
   "metadata": {},
   "source": [
    "## Body Mass Index \n",
    "\n",
    "Body Mass Index (BMI) is a person’s weight in kilograms divided by the square of height in meters. A high BMI can be an indicator of high body fatness. BMI can be used to screen for weight categories that may lead to health problems but it is not diagnostic of the body fatness or health of an individual.<br>\n",
    "\n",
    "BMI provides a reliable indicator of body fatness for most people and is used to screen for weight categories that may lead to health problems. <br><br>\n",
    "Information source: [cdc.gov](https://www.cdc.gov/healthyweight/assessing/bmi/index.html)\n",
    "\n",
    "### Challenge\n",
    "Using the formula for BMI given below, create a \"chained-if statement\" to ensure that the formula works for the following conditions:\n",
    "- the weight must be at or below 300 kilograms \n",
    "- the height speed must be at least 1 meter\n",
    "\n",
    "Assume height is in centimeters and weight is given in kilograms.<br><br>\n",
    "Provide a message for the user if the test condition fails.<br>\n",
    "Round the calculated BMI to a whole number (integer value).<br>\n",
    "Make sure to test all conditions.<br>\n",
    "\n",
    "### Assessment Note\n",
    "Some of the code is started but you can adjust to whatever you would like. You can adjust the calculations as you'd wish. The most important output is the correct calculation and display of the 1)BMI and the 2)Category. Your final output statement must be accurate: \"The BMI is _ which would make this category _.\"  <br>\n",
    "\n",
    "ex. \"The BMI is 33 which would make this categoy Obese\""
   ]
  },
  {
   "cell_type": "code",
   "execution_count": 4,
   "metadata": {},
   "outputs": [],
   "source": [
    "height = 165     # height in centimeters\n",
    "weight = 75           # weight in kilograms\n",
    "\n",
    "if height < 100:\n",
    "    print(\"please chose a height that is greater than 1 meter\")\n",
    "    \n",
    "if weight > 300:\n",
    "    print(\"please chose a weight that is less than or equal to 300 kg\")"
   ]
  },
  {
   "cell_type": "code",
   "execution_count": 5,
   "metadata": {
    "scrolled": true
   },
   "outputs": [
    {
     "name": "stdout",
     "output_type": "stream",
     "text": [
      "27\n",
      "overweight\n"
     ]
    }
   ],
   "source": [
    "# formula for BMI, see source indicated above for detailed description\n",
    "# give the category for obesity classification (underweight, obese, etc.)\n",
    "\n",
    "#Your code here: \n",
    "Calc_BMI = weight/(height/100)**2\n",
    "BMI = int(Calc_BMI)\n",
    "print(BMI)\n",
    "\n",
    "#Your code here: \n",
    "\n",
    "if BMI >= 30:\n",
    "    Category =\"obese\"\n",
    "elif BMI >= 25:\n",
    "    Category =\"overweight\"\n",
    "elif BMI >= 18.5:\n",
    "    Category = \"healthy weight\"\n",
    "else:\n",
    "    Category = \"underweight\"\n",
    "print(Category)"
   ]
  },
  {
   "cell_type": "code",
   "execution_count": 6,
   "metadata": {},
   "outputs": [
    {
     "name": "stdout",
     "output_type": "stream",
     "text": [
      "The BMI is  27  which would make this category: overweight\n"
     ]
    }
   ],
   "source": [
    "print(\"The BMI is \", str(BMI) , \" which would make this category:\", str(Category))"
   ]
  },
  {
   "cell_type": "markdown",
   "metadata": {
    "collapsed": true
   },
   "source": [
    "### Bonus Challenge\n",
    "Complete the same challenge as above, but instead of using a \"chained-if statement\", use a logical operator and a single `if` statement."
   ]
  },
  {
   "cell_type": "code",
   "execution_count": 14,
   "metadata": {},
   "outputs": [
    {
     "name": "stdout",
     "output_type": "stream",
     "text": [
      "overweight\n"
     ]
    }
   ],
   "source": [
    "if BMI >=30:\n",
    "    Category = \"obese\"\n",
    "if BMI in range(25,30):\n",
    "    Category = \"overweight\"\n",
    "if BMI in range(int(18.5), 25):\n",
    "    Category = \"healthy weight\"\n",
    "if BMI <18.5:\n",
    "    Category = \"underweight\"\n",
    "    \n",
    "print(Category)\n",
    "    "
   ]
  }
 ],
 "metadata": {
  "kernelspec": {
   "display_name": "Python 3",
   "language": "python",
   "name": "python3"
  },
  "language_info": {
   "codemirror_mode": {
    "name": "ipython",
    "version": 3
   },
   "file_extension": ".py",
   "mimetype": "text/x-python",
   "name": "python",
   "nbconvert_exporter": "python",
   "pygments_lexer": "ipython3",
   "version": "3.8.5"
  }
 },
 "nbformat": 4,
 "nbformat_minor": 2
}
